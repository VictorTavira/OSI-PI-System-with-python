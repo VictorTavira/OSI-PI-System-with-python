{
 "cells": [
  {
   "cell_type": "code",
   "execution_count": 1,
   "metadata": {},
   "outputs": [],
   "source": [
    "import json\n",
    "import getpass\n",
    "import requests\n",
    "import pandas as pd\n",
    "import numpy as np\n",
    "import urllib3\n",
    "import datetime\n",
    "import dateutil.parser\n",
    "import sklearn\n",
    "import matplotlib\n",
    "import types\n",
    "import uuid\n",
    "import io\n",
    "\n",
    "urllib3.disable_warnings()\n",
    "from requests.auth import HTTPBasicAuth\n",
    "\n",
    "from sklearn import linear_model\n",
    "from sklearn.model_selection import train_test_split \n",
    "from sklearn import neighbors\n",
    "from matplotlib import pyplot as plt"
   ]
  },
  {
   "cell_type": "code",
   "execution_count": 2,
   "metadata": {},
   "outputs": [],
   "source": [
    "def call_security_method(security_method, user_name, user_password):\n",
    "    if security_method.lower() == 'basic':\n",
    "        security_auth = HTTPBasicAuth(user_name, user_password)\n",
    "    return security_auth"
   ]
  },
  {
   "cell_type": "code",
   "execution_count": 3,
   "metadata": {},
   "outputs": [],
   "source": [
    "def read_config():\n",
    "    with open('test_config.json') as c:\n",
    "        data = json.load(c)\n",
    "    return data"
   ]
  },
  {
   "cell_type": "code",
   "execution_count": 4,
   "metadata": {},
   "outputs": [],
   "source": [
    "def get(query):\n",
    "    data = read_config()\n",
    "    username = data['USER_NAME']\n",
    "    password = data['USER_PASSWORD']\n",
    "    securitymethod = data['AUTH_TYPE']\n",
    "    security_auth = call_security_method(securitymethod, username, password)\n",
    "    response = requests.get(query, auth= security_auth, verify=False)\n",
    "    return response"
   ]
  },
  {
   "cell_type": "code",
   "execution_count": 17,
   "metadata": {},
   "outputs": [],
   "source": [
    "def post(query, body):\n",
    "    \n",
    "    header = {\n",
    "        'content-type': 'application/json',\n",
    "        'X-Requested-With':'XmlHttpRequest'\n",
    "    }\n",
    "    \n",
    "    data = read_config()\n",
    "    username = data['USER_NAME']\n",
    "    password = data['USER_PASSWORD']\n",
    "    securitymethod = data['AUTH_TYPE']\n",
    "    \n",
    "    security_auth = call_security_method(securitymethod, username, password)\n",
    "    response = requests.post(query, auth= security_auth, verify=False, json=body, headers=header)\n",
    "    return response"
   ]
  },
  {
   "cell_type": "code",
   "execution_count": 14,
   "metadata": {},
   "outputs": [],
   "source": [
    "def getDatabaseWebID(path):\n",
    "    data = read_config()\n",
    "    piwebapi_url = data['PIWEBAPI_URL']\n",
    "    getDatabaseQuery = piwebapi_url + \"/assetdatabases?path=\" + path\n",
    "    database = json.loads(get(getDatabaseQuery).text)\n",
    "    print(database)\n",
    "    return database['WebId']"
   ]
  },
  {
   "cell_type": "code",
   "execution_count": 18,
   "metadata": {},
   "outputs": [
    {
     "name": "stdout",
     "output_type": "stream",
     "text": [
      "{'Message': 'Authorization has been denied for this request.'}\n"
     ]
    },
    {
     "ename": "KeyError",
     "evalue": "'WebId'",
     "output_type": "error",
     "traceback": [
      "\u001b[1;31m---------------------------------------------------------------------------\u001b[0m",
      "\u001b[1;31mKeyError\u001b[0m                                  Traceback (most recent call last)",
      "\u001b[1;32m<ipython-input-18-3ba11db47f26>\u001b[0m in \u001b[0;36m<module>\u001b[1;34m\u001b[0m\n\u001b[0;32m      2\u001b[0m \u001b[1;31m#databasePath = \"\\\\\\\\\"+ data['AF_SERVER_NAME'] + \"\\\\\" + data['AF_DATABASE_NAME']\u001b[0m\u001b[1;33m\u001b[0m\u001b[1;33m\u001b[0m\u001b[1;33m\u001b[0m\u001b[0m\n\u001b[0;32m      3\u001b[0m \u001b[0mdatabasePath\u001b[0m \u001b[1;33m=\u001b[0m \u001b[1;34m\"\\\\\\\\WIN-JCMVQQ285BO\"\u001b[0m\u001b[1;33m\u001b[0m\u001b[1;33m\u001b[0m\u001b[0m\n\u001b[1;32m----> 4\u001b[1;33m \u001b[0mdatabaseWebID\u001b[0m \u001b[1;33m=\u001b[0m \u001b[0mgetDatabaseWebID\u001b[0m\u001b[1;33m(\u001b[0m\u001b[0mdatabasePath\u001b[0m\u001b[1;33m)\u001b[0m\u001b[1;33m\u001b[0m\u001b[1;33m\u001b[0m\u001b[0m\n\u001b[0m",
      "\u001b[1;32m<ipython-input-14-2736b30570cc>\u001b[0m in \u001b[0;36mgetDatabaseWebID\u001b[1;34m(path)\u001b[0m\n\u001b[0;32m      5\u001b[0m     \u001b[0mdatabase\u001b[0m \u001b[1;33m=\u001b[0m \u001b[0mjson\u001b[0m\u001b[1;33m.\u001b[0m\u001b[0mloads\u001b[0m\u001b[1;33m(\u001b[0m\u001b[0mget\u001b[0m\u001b[1;33m(\u001b[0m\u001b[0mgetDatabaseQuery\u001b[0m\u001b[1;33m)\u001b[0m\u001b[1;33m.\u001b[0m\u001b[0mtext\u001b[0m\u001b[1;33m)\u001b[0m\u001b[1;33m\u001b[0m\u001b[1;33m\u001b[0m\u001b[0m\n\u001b[0;32m      6\u001b[0m     \u001b[0mprint\u001b[0m\u001b[1;33m(\u001b[0m\u001b[0mdatabase\u001b[0m\u001b[1;33m)\u001b[0m\u001b[1;33m\u001b[0m\u001b[1;33m\u001b[0m\u001b[0m\n\u001b[1;32m----> 7\u001b[1;33m     \u001b[1;32mreturn\u001b[0m \u001b[0mdatabase\u001b[0m\u001b[1;33m[\u001b[0m\u001b[1;34m'WebId'\u001b[0m\u001b[1;33m]\u001b[0m\u001b[1;33m\u001b[0m\u001b[1;33m\u001b[0m\u001b[0m\n\u001b[0m",
      "\u001b[1;31mKeyError\u001b[0m: 'WebId'"
     ]
    }
   ],
   "source": [
    "data = read_config()\n",
    "#databasePath = \"\\\\\\\\\"+ data['AF_SERVER_NAME'] + \"\\\\\" + data['AF_DATABASE_NAME']\n",
    "databasePath = \"\\\\\\\\WIN-JCMVQQ285BO\"\n",
    "databaseWebID = getDatabaseWebID(databasePath)"
   ]
  },
  {
   "cell_type": "code",
   "execution_count": null,
   "metadata": {},
   "outputs": [],
   "source": []
  }
 ],
 "metadata": {
  "kernelspec": {
   "display_name": "Python 3",
   "language": "python",
   "name": "python3"
  },
  "language_info": {
   "codemirror_mode": {
    "name": "ipython",
    "version": 3
   },
   "file_extension": ".py",
   "mimetype": "text/x-python",
   "name": "python",
   "nbconvert_exporter": "python",
   "pygments_lexer": "ipython3",
   "version": "3.8.3"
  }
 },
 "nbformat": 4,
 "nbformat_minor": 4
}
